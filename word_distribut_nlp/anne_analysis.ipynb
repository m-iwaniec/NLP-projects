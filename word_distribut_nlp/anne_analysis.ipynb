{
 "cells": [
  {
   "cell_type": "markdown",
   "metadata": {},
   "source": [
    "### Academic Writing Task\n",
    "#### Martyna Iwaniec I MA PJN\n",
    "### Finding most frequent words in *Anne of Green Gables* by L. M. Montgomery\n",
    "\n",
    "\n"
   ]
  },
  {
   "cell_type": "markdown",
   "metadata": {},
   "source": [
    "### Table of contents\n",
    "\n",
    "#### 1. Introduction\n",
    "\n",
    "#### 2. Data collection\n",
    "\n",
    "#### 3. Extracting the text\n",
    "\n",
    "#### 4. Editing the text\n",
    "\n",
    "#### 5. Removing stop words\n",
    "\n",
    "#### 6. Results"
   ]
  },
  {
   "cell_type": "markdown",
   "metadata": {},
   "source": [
    "### 1. Introduction\n",
    "<img style=\"float: right ; margin: 5px 20px 5px 10px; width: 50%\" src=\"https://upload.wikimedia.org/wikipedia/commons/8/8b/Montgomery_Anne_of_Green_Gables.jpg\">\n",
    "\n",
    "This project aims to find out what are the most frequent words in Lucy Maud Montgomery's *Anne of Green Gables*.\n",
    "\n",
    "First of all, the novel *Anne of Green Gables* will be scraped from the website [Project Gutenberg](https://www.gutenberg.org/) (which contains a large corpus of books) using the package `requests`.\n",
    "\n",
    "Then, the words will be extracted from this web data using the Python library `BeautifulSoup`.\n",
    "\n",
    "After that, an analysis of the distribution of words will be made with the use of the *Natural Language ToolKit* - `nltk`.\n",
    "\n",
    "Finally, `matplotlib` library will be used to create a static visualisation of the results.\n",
    "\n",
    "\n",
    "To start with, the main python packages that will be used must be loaded."
   ]
  },
  {
   "cell_type": "code",
   "execution_count": 11,
   "metadata": {},
   "outputs": [],
   "source": [
    "import requests\n",
    "from bs4 import BeautifulSoup\n",
    "import nltk\n",
    "import matplotlib as plt\n",
    "#magic function that displays figures inline\n",
    "%matplotlib inline"
   ]
  },
  {
   "cell_type": "markdown",
   "metadata": {},
   "source": [
    "## 2. Data collection\n",
    "\n",
    "To analyse the language, the contents of the book must be downloaded. \n",
    "Fortunately, the full book is available online at Project Gutenberg as an HTML file for free: [Project Gutenberg website](https://www.gutenberg.org/files/45/45-h/45-h.htm).\n",
    "\n",
    "Usually, a file is downloaded by an user when visiting a webpage. However, in this notebook the HTML file will be requested directly into Python. To do this, a `get` request will be made with the **requests** package."
   ]
  },
  {
   "cell_type": "code",
   "execution_count": 12,
   "metadata": {},
   "outputs": [
    {
     "name": "stdout",
     "output_type": "stream",
     "text": [
      "﻿<?xml version=\"1.0\" encoding=\"utf-8\"?>\r\n",
      "\r\n",
      "<!DOCTYPE html\r\n",
      "   PUBLIC \"-//W3C//DTD XHTML 1.0 Strict//EN\"\r\n",
      "   \"http://www.w3.org/TR/xhtml1/DTD/xhtml1-strict.dtd\" >\r\n",
      "\r\n",
      "<html xmlns=\"http://www.w3.org/1999/xhtml\" lang=\"en\">\r\n",
      "  <head>\r\n",
      "    <title>\r\n",
      "      Anne of Green Gables, by Lucy Maud Montgomery\r\n",
      "    </title>\r\n",
      "    <style type=\"text/css\" xml:space=\"preserve\">\r\n",
      "\r\n",
      "    body { margin:5%; background:#faebd0; text-align:justify}\r\n",
      "    P { text-indent: 1em; margin-top: .25em; margin-bottom: .25em; }\r\n",
      "    H1,H2,H3,H4,H5,H6 { text-align: center; margin-left: 15%; margin-right: 15%; }\r\n",
      "    hr  { width: 50%; text-align: center;}\r\n",
      "    .foot { margin-left: 5%; margin-right: 5%; text-align: justify; font-size: 80%; font-style: italic;}\r\n",
      "    blockquote {font-size: 97%; font-style: italic; margin-left: 10%; margin-right: 10%;}\r\n",
      "    .mynote    {background-color: #DDE; color: #000; padding: .5em; margin-left: 10%; margin-right: 10%; font-family: sans-serif; font-size: 95%;}\r\n",
      "    .toc       { margin-left: 10\n"
     ]
    }
   ],
   "source": [
    "#get the HTML file \n",
    "r = requests.get('https://www.gutenberg.org/files/45/45-h/45-h.htm')\n",
    "\n",
    "#set the correct text encoding of the HTML page\n",
    "r.encoding = 'utf-8'\n",
    "\n",
    "#extract the HTML from the request object\n",
    "html = r.text\n",
    "\n",
    "#print the first 1000 characters in html to see how the file looks\n",
    "print(html[:1000])"
   ]
  },
  {
   "cell_type": "markdown",
   "metadata": {},
   "source": [
    "### 3. Extracting the text\n",
    "\n",
    "Next, to extract the text of the novel, the package `BeautifulSoup` will be used.\n",
    "\n",
    "In web development, the term *tag soup* refers to structurally or syntactically incorrect HTML code written for a webpage. *Beautiful Soup* was created to make *tag soup* beautiful again as well as extract information from it. \n",
    "\n",
    "After creating the soup, its `.get_text()` method can be used to extract the text."
   ]
  },
  {
   "cell_type": "code",
   "execution_count": 3,
   "metadata": {},
   "outputs": [
    {
     "name": "stdout",
     "output_type": "stream",
     "text": [
      "﻿\n",
      "\n",
      "\n",
      "\n",
      "\r\n",
      "      Anne of Green Gables, by Lucy Maud Montgomery\r\n",
      "    \n",
      "\r\n",
      "\r\n",
      "    body { margin:5%; background:#faebd0; text-align:justify}\r\n",
      "    P { text-indent: 1em; margin-top: .25em; margin-bottom: .25em; }\r\n",
      "    H1,H2,H3,H4,H5,H6 { text-align: center; margin-left: 15%; margin-right: 15%; }\r\n",
      "    hr  { width: 50%; text-align: center;}\r\n",
      "    .foot { margin-left: 5%; margin-right: 5%; text-align: justify; font-size: 80%; font-style: italic;}\r\n",
      "    blockquote {font-size: 97%; font-style: italic; margin-left: 10%; margin-right: 10%;}\r\n",
      "    .mynote    {background-color: #DDE; color: #000; padding: .5em; margin-left: 10%; margin-right: 10%; font-family: sans-serif; font-size: 95%;}\r\n",
      "    .toc       { margin-left: 10%; margin-bottom: .75em;}\r\n",
      "    .toc2      { margin-left: 20%;}\r\n",
      "    .xx-small {font-size: 60%;}\r\n",
      "    .x-small {font-size: 75%;}\r\n",
      "    .small {font-size: 85%;}\r\n",
      "    .large {font-size: 115%;}\r\n",
      "    .x-large {font-size: 130%;}\r\n",
      "    .indent5   { margin-left: 5%;}\r\n",
      "    .indent10  { margin-left: 10%;\n"
     ]
    }
   ],
   "source": [
    "#create a BeautifulSoup object from the HTML\n",
    "soup = BeautifulSoup(html, 'html.parser')\n",
    "\n",
    "#get the text out of the soup\n",
    "text = soup.get_text()\n",
    "\n",
    "#print a sample of the text (between characters 0 and 1000)\n",
    "print(text[0:1000])"
   ]
  },
  {
   "cell_type": "markdown",
   "metadata": {},
   "source": [
    "### 4. Editing the text\n",
    "\n",
    "The text of the novel is now extracted, however it must still be cleaned-up.\n",
    "\n",
    "In particular, at the end and at the start of the novel, there are some unwanted elements not relevant to the language of the book. They could be either removed or left in (since they are much smaller in amount than the text of the novel). \n",
    "In this project, they will not be removed, because their significance does not appear to be big.\n",
    "\n",
    "Further, the `nltk` package will be used to count how many times each word appears.\n",
    "First, the text should be tokenised, in other words, everything that isn't a word (whitespaces, punctuation, etc.) must be removed. Then, the text will be split into a list of words.\n",
    "\n",
    "The last step in editing the text is to make all the words lowercase. For instance, the words \"hi\" and \"Hi' should be recognised by the program as the same word. Thus, lowercasing all contentd of the book will solve this problem."
   ]
  },
  {
   "cell_type": "code",
   "execution_count": 4,
   "metadata": {},
   "outputs": [
    {
     "name": "stdout",
     "output_type": "stream",
     "text": [
      "\n",
      "\n",
      "Regular text:  ['Anne', 'of', 'Green', 'Gables', 'by', 'Lucy', 'Maud', 'Montgomery', 'body', 'margin']\n",
      "\n",
      "\n",
      "Lowercased text:  ['anne', 'of', 'green', 'gables', 'by', 'lucy', 'maud', 'montgomery']\n"
     ]
    }
   ],
   "source": [
    "#create a tokenizer\n",
    "tokenizer = nltk.tokenize.RegexpTokenizer(\"\\w+\" )\n",
    "\n",
    "#tokenise the text\n",
    "tokens = tokenizer.tokenize(text)\n",
    "\n",
    "#print out the first 10 words (or tokens) \n",
    "print(\"\\n\")\n",
    "print(\"Regular text: \", tokens[:10])\n",
    "\n",
    "#create a new list to hold the lowercased words\n",
    "lower_words = []\n",
    "\n",
    "#loop through the tokens and make them lower case\n",
    "for word in tokens:\n",
    "    lower_words.append(word.lower())\n",
    "\n",
    "#printing out the first 10 words\n",
    "print(\"\\n\")\n",
    "print(\"Lowercased text: \", lower_words[:8])"
   ]
  },
  {
   "cell_type": "markdown",
   "metadata": {},
   "source": [
    "### 5. Removing stop words\n",
    "\n",
    "Words that appear a lot in the English language such as '*the*', '*and*' or '*a*' are called stop words. They will be removed, because they are not relevant to the aim of the current project and they would likely appear very high on the list of most frequent words in *Anne of Green Gables*.\n",
    "Further, the `nltk` package includes a list of stop words in English that will be used below."
   ]
  },
  {
   "cell_type": "code",
   "execution_count": 5,
   "metadata": {},
   "outputs": [
    {
     "name": "stderr",
     "output_type": "stream",
     "text": [
      "[nltk_data] Downloading package stopwords to\n",
      "[nltk_data]     C:\\Users\\marty\\AppData\\Roaming\\nltk_data...\n",
      "[nltk_data]   Package stopwords is already up-to-date!\n"
     ]
    }
   ],
   "source": [
    "#download stop words from nltk (only do this once)\n",
    "stop_words = nltk.download('stopwords')"
   ]
  },
  {
   "cell_type": "code",
   "execution_count": 6,
   "metadata": {},
   "outputs": [
    {
     "name": "stdout",
     "output_type": "stream",
     "text": [
      "['i', 'me', 'my', 'myself', 'we', 'our', 'ours', 'ourselves', 'you', \"you're\", \"you've\", \"you'll\", \"you'd\", 'your', 'yours', 'yourself', 'yourselves', 'he', 'him', 'his', 'himself', 'she', \"she's\", 'her', 'hers', 'herself', 'it', \"it's\", 'its', 'itself', 'they', 'them', 'their', 'theirs', 'themselves', 'what', 'which', 'who', 'whom', 'this', 'that', \"that'll\", 'these', 'those', 'am', 'is', 'are', 'was', 'were', 'be', 'been', 'being', 'have', 'has', 'had', 'having', 'do', 'does', 'did', 'doing', 'a', 'an', 'the', 'and', 'but', 'if', 'or', 'because', 'as', 'until', 'while', 'of', 'at', 'by', 'for', 'with', 'about', 'against', 'between', 'into', 'through', 'during', 'before', 'after', 'above', 'below', 'to', 'from', 'up', 'down', 'in', 'out', 'on', 'off', 'over', 'under', 'again', 'further', 'then', 'once', 'here', 'there', 'when', 'where', 'why', 'how', 'all', 'any', 'both', 'each', 'few', 'more', 'most', 'other', 'some', 'such', 'no', 'nor', 'not', 'only', 'own', 'same', 'so', 'than', 'too', 'very', 's', 't', 'can', 'will', 'just', 'don', \"don't\", 'should', \"should've\", 'now', 'd', 'll', 'm', 'o', 're', 've', 'y', 'ain', 'aren', \"aren't\", 'couldn', \"couldn't\", 'didn', \"didn't\", 'doesn', \"doesn't\", 'hadn', \"hadn't\", 'hasn', \"hasn't\", 'haven', \"haven't\", 'isn', \"isn't\", 'ma', 'mightn', \"mightn't\", 'mustn', \"mustn't\", 'needn', \"needn't\", 'shan', \"shan't\", 'shouldn', \"shouldn't\", 'wasn', \"wasn't\", 'weren', \"weren't\", 'won', \"won't\", 'wouldn', \"wouldn't\"]\n"
     ]
    }
   ],
   "source": [
    "#get the English stop words\n",
    "stop_words = nltk.corpus.stopwords.words('english')\n",
    "\n",
    "#print out those stop words\n",
    "print(stop_words)"
   ]
  },
  {
   "cell_type": "markdown",
   "metadata": {},
   "source": [
    "Now that stop words are downloaded, they can be removed from the book contents.\n",
    "\n",
    "To do this, a new list with all words in the novel will be created. However, stop words that are in the book (that is, those words listed in `stop_words`) will not be included in the new list. \n",
    "\n",
    "Thus, the code will loop over all elements of the novel and add each word to a new list if they are *not* in `stop_words`."
   ]
  },
  {
   "cell_type": "code",
   "execution_count": 7,
   "metadata": {},
   "outputs": [
    {
     "name": "stdout",
     "output_type": "stream",
     "text": [
      "['anne', 'green', 'gables', 'lucy', 'maud', 'montgomery', 'body', 'margin', '5', 'background', 'faebd0', 'text', 'align', 'justify', 'p', 'text', 'indent', '1em', 'margin', 'top']\n"
     ]
    }
   ],
   "source": [
    "#create a new list that will hold all words of the book EXCEPT the stop words\n",
    "clean_words = []\n",
    "\n",
    "#append to words_clean all words that are in words but not in stop_words\n",
    "for word in lower_words:\n",
    "    if word not in stop_words:\n",
    "        clean_words.append(word)\n",
    "\n",
    "#print the first 20 clean_words to check if the stop words were removed\n",
    "print(clean_words[:20])"
   ]
  },
  {
   "cell_type": "markdown",
   "metadata": {},
   "source": [
    "### 6. Results\n",
    "Finally, `nltk` will be used to find 20 most frequent words in *Anne of Green Gables*.\n",
    "\n",
    "Addionally, the results will be printed with the use of `matplotlib` library."
   ]
  },
  {
   "cell_type": "code",
   "execution_count": 14,
   "metadata": {},
   "outputs": [
    {
     "name": "stdout",
     "output_type": "stream",
     "text": [
      "It is possible to see the results in a dictionary.\n"
     ]
    },
    {
     "data": {
      "text/plain": [
       "[('anne', 1220),\n",
       " ('marilla', 851),\n",
       " ('said', 640),\n",
       " ('diana', 415),\n",
       " ('mrs', 406),\n",
       " ('matthew', 363),\n",
       " ('would', 344),\n",
       " ('think', 305),\n",
       " ('like', 295),\n",
       " ('little', 294),\n",
       " ('never', 282),\n",
       " ('well', 278),\n",
       " ('one', 275),\n",
       " ('oh', 275),\n",
       " ('know', 260),\n",
       " ('good', 236),\n",
       " ('go', 231),\n",
       " ('going', 227),\n",
       " ('could', 224),\n",
       " ('much', 212)]"
      ]
     },
     "execution_count": 14,
     "metadata": {},
     "output_type": "execute_result"
    }
   ],
   "source": [
    "print(\"It is possible to see the results in a dictionary.\")\n",
    "#print words and their frequency in a dictionary\n",
    "frequency.most_common(20)"
   ]
  },
  {
   "cell_type": "code",
   "execution_count": 15,
   "metadata": {},
   "outputs": [
    {
     "data": {
      "image/png": "[encoded data removed]",
      "text/plain": [
       "<Figure size 432x288 with 1 Axes>"
      ]
     },
     "metadata": {
      "needs_background": "light"
     },
     "output_type": "display_data"
    },
    {
     "data": {
      "text/plain": [
       "<matplotlib.axes._subplots.AxesSubplot at 0x2b5f71e4288>"
      ]
     },
     "execution_count": 15,
     "metadata": {},
     "output_type": "execute_result"
    }
   ],
   "source": [
    "#check word frequency distribution\n",
    "frequency = nltk.FreqDist(clean_words)\n",
    "\n",
    "#plot the word frequency distribution\n",
    "frequency.plot(20)"
   ]
  },
  {
   "cell_type": "code",
   "execution_count": 16,
   "metadata": {},
   "outputs": [
    {
     "name": "stdout",
     "output_type": "stream",
     "text": [
      "Unsurprisingly, the most common word in the novel was  Anne ! In fact, names of a few more characters from the novel are high on the list as well.\n"
     ]
    }
   ],
   "source": [
    "most_common_word = \"Anne\"\n",
    "print(\"Unsurprisingly, the most common word in the novel was \", most_common_word, \"! In fact, names of a few more characters from the novel are high on the list as well.\")"
   ]
  },
  {
   "cell_type": "markdown",
   "metadata": {},
   "source": [
    "To sum up, this *data science pipeline* can be used to visualise the word frequency distributions of any book or any other corpus. However, it could be improved in many ways that would make it more complex and that would use more of what `nltk` and the other packages offer."
   ]
  },
  {
   "cell_type": "code",
   "execution_count": null,
   "metadata": {},
   "outputs": [],
   "source": []
  }
 ],
 "metadata": {
  "kernelspec": {
   "display_name": "Python 3",
   "language": "python",
   "name": "python3"
  },
  "language_info": {
   "codemirror_mode": {
    "name": "ipython",
    "version": 3
   },
   "file_extension": ".py",
   "mimetype": "text/x-python",
   "name": "python",
   "nbconvert_exporter": "python",
   "pygments_lexer": "ipython3",
   "version": "3.7.6"
  }
 },
 "nbformat": 4,
 "nbformat_minor": 4
}
